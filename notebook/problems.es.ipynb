{
 "cells": [
  {
   "cell_type": "markdown",
   "id": "a41f3622",
   "metadata": {},
   "source": [
    "# Ejercicios de probabilidad"
   ]
  },
  {
   "cell_type": "markdown",
   "id": "a6bdbd89",
   "metadata": {},
   "source": [
    "## Ejercicio 1 \n",
    "\n",
    "Dos dados se lanzan una vez y se observa el total obtenido. Usa una simulación para encontrar la probabilidad estimada de que la puntuación sea mayor a 7 o un número par. Una simulación es una repetición del mismo experimento multiples veces para observar su comportamiento:\n",
    "\n",
    "- Ejecuta el experimento 1000 veces (lanza 2 dados 1000 veces, y suma el número de ambos dados).\n",
    "- Lleva ua cuenta de los números y las veces que la suma fue mayor a 7 o un número par.\n",
    "- Divide el número del paso 2 entre el número de iteraciones(1000)."
   ]
  },
  {
   "cell_type": "code",
   "execution_count": 4,
   "id": "8939d892",
   "metadata": {},
   "outputs": [
    {
     "name": "stdout",
     "output_type": "stream",
     "text": [
      "La probabilidad de obtener un número par o mayor a 7 es: 66.5%\n"
     ]
    }
   ],
   "source": [
    "import random\n",
    "import numpy as np\n",
    "\n",
    "def lanzar_dados(n_simulaciones=1000):\n",
    "    conteo = 0\n",
    "    \n",
    "    # Cada iteración del bucle for es un experimento\n",
    "    for i in range(n_simulaciones):\n",
    "        \n",
    "        # Lanzar cada dado\n",
    "        dado1 = random.randint(1, 6)\n",
    "        dado2 = random.randint(1, 6)\n",
    "        \n",
    "        # Sumar los valores para obtener la puntuación\n",
    "        puntuacion = dado1 + dado2\n",
    "        \n",
    "        # Decidir si debemos añadirlo al conteo\n",
    "        if (puntuacion % 2 == 0) or (puntuacion > 7):\n",
    "            conteo += 1\n",
    "\n",
    "    # Calcular la probabilidad\n",
    "    return conteo / n_simulaciones\n",
    "\n",
    "print(f\"La probabilidad de obtener un número par o mayor a 7 es: {np.round(lanzar_dados() * 100, 2)}%\")"
   ]
  },
  {
   "cell_type": "markdown",
   "id": "55732bca",
   "metadata": {},
   "source": [
    "## Ejercicio 2\n",
    "\n",
    "Una caja contiene 10 bolas blancas, 20 bolas rojas y 30 bolas verdes. Si tomamos 5 bolas de la caja reemplazándolas (tomando una bola, anotando el color y luego regresandola a la caja). Queremos saber la probabilidad de:\n",
    "\n",
    "1. Tomar 3 blancas y 2 rojas.\n",
    "2. Toas todas del mismo color.\n",
    "\n",
    "Ejecuta el experimento 1000 veces y calcula las probabilidades que mencionadas."
   ]
  },
  {
   "cell_type": "code",
   "execution_count": 67,
   "id": "23244d20",
   "metadata": {},
   "outputs": [
    {
     "name": "stdout",
     "output_type": "stream",
     "text": [
      "{0: 'Blanca', 1: 'Blanca', 2: 'Blanca', 3: 'Blanca', 4: 'Blanca', 5: 'Blanca', 6: 'Blanca', 7: 'Blanca', 8: 'Blanca', 9: 'Blanca', 10: 'Roja', 11: 'Roja', 12: 'Roja', 13: 'Roja', 14: 'Roja', 15: 'Roja', 16: 'Roja', 17: 'Roja', 18: 'Roja', 19: 'Roja', 20: 'Roja', 21: 'Roja', 22: 'Roja', 23: 'Roja', 24: 'Roja', 25: 'Roja', 26: 'Roja', 27: 'Roja', 28: 'Roja', 29: 'Roja', 30: 'Verde', 31: 'Verde', 32: 'Verde', 33: 'Verde', 34: 'Verde', 35: 'Verde', 36: 'Verde', 37: 'Verde', 38: 'Verde', 39: 'Verde', 40: 'Verde', 41: 'Verde', 42: 'Verde', 43: 'Verde', 44: 'Verde', 45: 'Verde', 46: 'Verde', 47: 'Verde', 48: 'Verde', 49: 'Verde', 50: 'Verde', 51: 'Verde', 52: 'Verde', 53: 'Verde', 54: 'Verde', 55: 'Verde', 56: 'Verde', 57: 'Verde', 58: 'Verde', 59: 'Verde'}\n",
      "La probabilidad de obtener 3 blancas y 2 rojas es: 0.8%\n",
      "La probabilidad de obtener todas del mismo color es: 3.8%\n"
     ]
    }
   ],
   "source": [
    "import numpy as np\n",
    "\n",
    "# Crear la caja de bolas\n",
    "caja_bolas = {}\n",
    "\n",
    "for i in range(60):\n",
    "    if i < 10:\n",
    "        caja_bolas[i] = \"Blanca\"\n",
    "    elif (i > 9) and (i < 30):\n",
    "        caja_bolas[i] = \"Roja\"\n",
    "    else:\n",
    "        caja_bolas[i] = \"Verde\"\n",
    "\n",
    "print(caja_bolas)\n",
    "\n",
    "def sacar_bolas(n_simulaciones=1000):\n",
    "    conteo_1 = 0\n",
    "    conteo_2 = 0\n",
    "\n",
    "    for i in range(n_simulaciones):\n",
    "        colores = []\n",
    "\n",
    "        # Sacar 5 bolas de la caja\n",
    "        for i in range(5):\n",
    "            colores.append(caja_bolas[np.random.randint(0, 59)])\n",
    "\n",
    "        # Convertir lista a arreglo de NumPy para mejor filtrado\n",
    "        colores = np.array(colores)\n",
    "        \n",
    "        bolas_blancas = sum(colores == \"Blanca\")\n",
    "        bolas_rojas = sum(colores == \"Roja\")\n",
    "        bolas_verdes = sum(colores == \"Verde\")\n",
    "\n",
    "        # Decidir si añadir al conteo\n",
    "        if (bolas_blancas == 3) and (bolas_rojas == 2):\n",
    "            conteo_1 += 1\n",
    "        \n",
    "        if (bolas_blancas == 5) or (bolas_rojas == 5) or (bolas_verdes == 5):\n",
    "            conteo_2 += 1\n",
    "    \n",
    "    return conteo_1 / n_simulaciones, conteo_2 / n_simulaciones\n",
    "\n",
    "probabilidades = sacar_bolas(1000)\n",
    "\n",
    "print(f\"La probabilidad de obtener 3 blancas y 2 rojas es: {np.round(probabilidades[0] * 100, 2)}%\")\n",
    "print(f\"La probabilidad de obtener todas del mismo color es: {np.round(probabilidades[1] * 100, 2)}%\")"
   ]
  }
 ],
 "metadata": {
  "kernelspec": {
   "display_name": "Python 3",
   "language": "python",
   "name": "python3"
  },
  "language_info": {
   "codemirror_mode": {
    "name": "ipython",
    "version": 3
   },
   "file_extension": ".py",
   "mimetype": "text/x-python",
   "name": "python",
   "nbconvert_exporter": "python",
   "pygments_lexer": "ipython3",
   "version": "3.11.4"
  }
 },
 "nbformat": 4,
 "nbformat_minor": 5
}
