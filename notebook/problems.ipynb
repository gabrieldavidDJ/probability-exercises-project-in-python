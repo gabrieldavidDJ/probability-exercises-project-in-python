{
 "cells": [
  {
   "cell_type": "markdown",
   "id": "a41f3622",
   "metadata": {},
   "source": [
    "# Probability exercises"
   ]
  },
  {
   "cell_type": "markdown",
   "id": "a6bdbd89",
   "metadata": {},
   "source": [
    "## Exercise 1 \n",
    "\n",
    "Two dices are thrown once and the total score is observed. Use a simulation to find the estimated probability that the total score is even or greater than 7.  A simulation is a repetition of the same experiment multiple times to observe its behavior:\n",
    "\n",
    "- Run the experiment 1000 times (roll 2 dice 1000 times, and sum the number of both dices).\n",
    "- Keep track of the number of times that the sum was either greater than 7 or an even number.\n",
    "- Divide the number from step 2 by the number of iterations (1000)."
   ]
  },
  {
   "cell_type": "code",
   "execution_count": 1,
   "id": "8939d892",
   "metadata": {},
   "outputs": [],
   "source": [
    "# TODO"
   ]
  },
  {
   "cell_type": "markdown",
   "id": "55732bca",
   "metadata": {},
   "source": [
    "## Exercise 2\n",
    "\n",
    "A box contains 10 white balls, 20 red balls and 30 green balls. If we take 5 balls from the box with replacement (we take the ball, observe what color it is and put it back into the box). We want to know the probability of:\n",
    "\n",
    "1. Take 3 white and 2 red.\n",
    "2. Take all of the same color.\n",
    "\n",
    "Run the experiment 1000 times and calculate the above probabilities."
   ]
  },
  {
   "cell_type": "code",
   "execution_count": 1,
   "id": "23244d20",
   "metadata": {},
   "outputs": [
    {
     "name": "stdout",
     "output_type": "stream",
     "text": [
      "{0: 'White', 1: 'White', 2: 'White', 3: 'White', 4: 'White', 5: 'White', 6: 'White', 7: 'White', 8: 'White', 9: 'White', 10: 'Red', 11: 'Red', 12: 'Red', 13: 'Red', 14: 'Red', 15: 'Red', 16: 'Red', 17: 'Red', 18: 'Red', 19: 'Red', 20: 'Red', 21: 'Red', 22: 'Red', 23: 'Red', 24: 'Red', 25: 'Red', 26: 'Red', 27: 'Red', 28: 'Red', 29: 'Red', 30: 'Green', 31: 'Green', 32: 'Green', 33: 'Green', 34: 'Green', 35: 'Green', 36: 'Green', 37: 'Green', 38: 'Green', 39: 'Green', 40: 'Green', 41: 'Green', 42: 'Green', 43: 'Green', 44: 'Green', 45: 'Green', 46: 'Green', 47: 'Green', 48: 'Green', 49: 'Green', 50: 'Green', 51: 'Green', 52: 'Green', 53: 'Green', 54: 'Green', 55: 'Green', 56: 'Green', 57: 'Green', 58: 'Green', 59: 'Green'}\n",
      "{0: 'Blanca', 1: 'Blanca', 2: 'Blanca', 3: 'Blanca', 4: 'Blanca', 5: 'Blanca', 6: 'Blanca', 7: 'Blanca', 8: 'Blanca', 9: 'Blanca', 10: 'Roja', 11: 'Roja', 12: 'Roja', 13: 'Roja', 14: 'Roja', 15: 'Roja', 16: 'Roja', 17: 'Roja', 18: 'Roja', 19: 'Roja', 20: 'Roja', 21: 'Roja', 22: 'Roja', 23: 'Roja', 24: 'Roja', 25: 'Roja', 26: 'Roja', 27: 'Roja', 28: 'Roja', 29: 'Roja', 30: 'Verde', 31: 'Verde', 32: 'Verde', 33: 'Verde', 34: 'Verde', 35: 'Verde', 36: 'Verde', 37: 'Verde', 38: 'Verde', 39: 'Verde', 40: 'Verde', 41: 'Verde', 42: 'Verde', 43: 'Verde', 44: 'Verde', 45: 'Verde', 46: 'Verde', 47: 'Verde', 48: 'Verde', 49: 'Verde', 50: 'Verde', 51: 'Verde', 52: 'Verde', 53: 'Verde', 54: 'Verde', 55: 'Verde', 56: 'Verde', 57: 'Verde', 58: 'Verde', 59: 'Verde'}\n",
      "La probabilidad de obtener 3 blancas y 2 rojas es: 0.7%\n",
      "La probabilidad de obtener todas del mismo color es: 3.4%\n"
     ]
    }
   ],
   "source": [
    "ball_box = {}\n",
    "\n",
    "# Create the box of balls\n",
    "for i in range(60):\n",
    "    if i < 10:\n",
    "        ball_box[i] = \"White\"\n",
    "    elif (i > 9) and (i < 30):\n",
    "        ball_box[i] = \"Red\"\n",
    "    else:\n",
    "        ball_box[i] = \"Green\"\n",
    "\n",
    "print(ball_box)\n",
    "            \n",
    "# TODO\n",
    "import numpy as np\n",
    "\n",
    "# Crear la caja de bolas\n",
    "caja_bolas = {}\n",
    "\n",
    "for i in range(60):\n",
    "    if i < 10:\n",
    "        caja_bolas[i] = \"Blanca\"\n",
    "    elif (i > 9) and (i < 30):\n",
    "        caja_bolas[i] = \"Roja\"\n",
    "    else:\n",
    "        caja_bolas[i] = \"Verde\"\n",
    "\n",
    "print(caja_bolas)\n",
    "\n",
    "def sacar_bolas(n_simulaciones=1000):\n",
    "    conteo_1 = 0\n",
    "    conteo_2 = 0\n",
    "\n",
    "    for i in range(n_simulaciones):\n",
    "        colores = []\n",
    "\n",
    "        # Sacar 5 bolas de la caja\n",
    "        for i in range(5):\n",
    "            colores.append(caja_bolas[np.random.randint(0, 59)])\n",
    "\n",
    "        # Convertir lista a arreglo de NumPy para mejor filtrado\n",
    "        colores = np.array(colores)\n",
    "        \n",
    "        bolas_blancas = sum(colores == \"Blanca\")\n",
    "        bolas_rojas = sum(colores == \"Roja\")\n",
    "        bolas_verdes = sum(colores == \"Verde\")\n",
    "\n",
    "        # Decidir si añadir al conteo\n",
    "        if (bolas_blancas == 3) and (bolas_rojas == 2):\n",
    "            conteo_1 += 1\n",
    "        \n",
    "        if (bolas_blancas == 5) or (bolas_rojas == 5) or (bolas_verdes == 5):\n",
    "            conteo_2 += 1\n",
    "    \n",
    "    return conteo_1 / n_simulaciones, conteo_2 / n_simulaciones\n",
    "\n",
    "probabilidades = sacar_bolas(1000)\n",
    "\n",
    "print(f\"La probabilidad de obtener 3 blancas y 2 rojas es: {np.round(probabilidades[0] * 100, 2)}%\")\n",
    "print(f\"La probabilidad de obtener todas del mismo color es: {np.round(probabilidades[1] * 100, 2)}%\")"
   ]
  }
 ],
 "metadata": {
  "kernelspec": {
   "display_name": "Python 3",
   "language": "python",
   "name": "python3"
  },
  "language_info": {
   "codemirror_mode": {
    "name": "ipython",
    "version": 3
   },
   "file_extension": ".py",
   "mimetype": "text/x-python",
   "name": "python",
   "nbconvert_exporter": "python",
   "pygments_lexer": "ipython3",
   "version": "3.11.4"
  }
 },
 "nbformat": 4,
 "nbformat_minor": 5
}
